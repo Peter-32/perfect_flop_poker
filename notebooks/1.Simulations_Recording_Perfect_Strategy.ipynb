{
 "cells": [
  {
   "cell_type": "code",
   "execution_count": 1,
   "metadata": {},
   "outputs": [],
   "source": [
    "import pandas as pd"
   ]
  },
  {
   "cell_type": "markdown",
   "metadata": {},
   "source": [
    "## What are the Default Strategies?\n",
    "- Make sure there is a strategy that makes sense for in and out of position\n",
    "- The default strategy will be used by the first opponent bot"
   ]
  },
  {
   "cell_type": "markdown",
   "metadata": {},
   "source": [
    "## What are the Ranges and Positions for Each Range?\n",
    "\n",
    "- Do not analyze any 4Bets or cold 4Bets (raise for RFI vs 3Bet and all Cold4B ranges)"
   ]
  },
  {
   "cell_type": "code",
   "execution_count": null,
   "metadata": {},
   "outputs": [],
   "source": [
    "# RFI\n",
    "lj_rfi = \"55+,A2s+,K9s+,Q9s+,J9s+,T9s,98s,87s,76s,AJo+,KQo+\"\n",
    "hj_rfi = \"22+,A2s+,K9s+,Q9s+,J9s+,T9s,98s,87s,76s,65s,ATo+,KJo+,QJo\"\n",
    "co_rfi = \"22+,A2s+,K6s+,Q8s+,J8s+,T8s+,97s+,86s+,75s+,65s,54s,ATo+,KTo+,QTo+,JTo\"\n",
    "bn_rfi = \"22+,A2s+,K4s+,Q6s+,J7s+,T7s+,96s+,85s+,75s+,64s+,53s+,43s,A4o+,K9o+,Q9o+,J9o+,T9o\"\n",
    "sb_rfi = \"22+,A2s+,K3s+,Q5s+,J6s+,T6s+,96s+,85s+,75s+,64s+,53s+,43s,A2o+,K8o+,Q9o+,J9o+,T9o,98o\"\n",
    "\n",
    "# vs RFI\n",
    "vsRFI_bb_vs_lj__raise = \"TT+,AQs+,AKo\"\n",
    "vsRFI_bb_vs_lj__call = \"99-22,AJs-A2s,K6s+,Q8s+,J8s+,T8s+,97s+,86s+,76s,65s,54s,AQo-ATo,KTo+,QTo+,JTo\"\n",
    "vsRFI_bb_vs_hj__raise = \"TT+,ATs+,AKo\"\n",
    "vsRFI_bb_vs_hj__call = \"99-22,A9s-A2s,K5s+,Q7s+,J7s+,T7s+,96s+,86s+,75s+,65s,54s,43s,AQo-ATo,KTo+,QTo+,JTo\"\n",
    "vsRFI_bb_vs_co__raise = \"99+,A8s+,KJs+,QJs,JTs,T9s,98s,AQo+,KQo\"\n",
    "vsRFI_bb_vs_co__call = \"88-22,A7s-A2s,KTs-K2s,QTs-Q5s,J9s-J6s,T8s-T6s,97s-96s,85s+,74s+,64s+,53s+,43s,AJo-A7o,A5o,KJo-K9o,Q9o+,J9o+,T9o\"\n",
    "vsRFI_bb_vs_bn__raise = \"88+,A6s+,KTs+,QTs+,JTs,T9s,98s,87s,76s,AJo+,KQo\"\n",
    "vsRFI_bb_vs_bn__call = \"77-22,A5s-A2s,K9s-K2s,Q9s-Q2s,J9s-J5s,T8s-T5s,97s-95s,86s-84s,75s-74s,63s+,53s+,42s+,32s,ATo-A2o,KJo-K7o,Q8o+,J8o+,T8o+,98o\"\n",
    "\n",
    "\n",
    "\n",
    "\n"
   ]
  },
  {
   "cell_type": "markdown",
   "metadata": {},
   "source": [
    "## Script to Read Ranges and Output Combos Collection"
   ]
  },
  {
   "cell_type": "markdown",
   "metadata": {},
   "source": [
    "## What Hands Fall Under Which Category Given a Definition"
   ]
  },
  {
   "cell_type": "markdown",
   "metadata": {},
   "source": [
    "## What are All the Definitions and Their Rankings for Cat1/2/3/4"
   ]
  },
  {
   "cell_type": "markdown",
   "metadata": {},
   "source": [
    "## What Rankings Are Unique to Paired Boards?"
   ]
  },
  {
   "cell_type": "code",
   "execution_count": null,
   "metadata": {},
   "outputs": [],
   "source": []
  }
 ],
 "metadata": {
  "kernelspec": {
   "display_name": "commons",
   "language": "python",
   "name": "commons"
  },
  "language_info": {
   "codemirror_mode": {
    "name": "ipython",
    "version": 3
   },
   "file_extension": ".py",
   "mimetype": "text/x-python",
   "name": "python",
   "nbconvert_exporter": "python",
   "pygments_lexer": "ipython3",
   "version": "3.6.5"
  },
  "toc": {
   "base_numbering": 1,
   "nav_menu": {},
   "number_sections": true,
   "sideBar": true,
   "skip_h1_title": false,
   "title_cell": "Table of Contents",
   "title_sidebar": "Contents",
   "toc_cell": false,
   "toc_position": {},
   "toc_section_display": true,
   "toc_window_display": false
  }
 },
 "nbformat": 4,
 "nbformat_minor": 2
}
