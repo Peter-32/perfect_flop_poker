{
 "cells": [
  {
   "cell_type": "code",
   "execution_count": 1,
   "metadata": {},
   "outputs": [],
   "source": [
    "import pandas as pd"
   ]
  },
  {
   "cell_type": "markdown",
   "metadata": {},
   "source": [
    "## What are the Default Strategies?\n",
    "- Make sure there is a strategy that makes sense for in and out of position\n",
    "- The default strategy will be used by the first opponent bot"
   ]
  },
  {
   "cell_type": "code",
   "execution_count": null,
   "metadata": {},
   "outputs": [],
   "source": []
  },
  {
   "cell_type": "markdown",
   "metadata": {},
   "source": [
    "## What are the Ranges and Positions for Each Range?\n",
    "\n",
    "- Do not analyze any 4Bets or cold 4Bets (raise for RFI vs 3Bet and all Cold4B ranges)"
   ]
  },
  {
   "cell_type": "code",
   "execution_count": 1,
   "metadata": {},
   "outputs": [],
   "source": [
    "# RFI\n",
    "lj_rfi = \"55+,A2s+,K9s+,Q9s+,J9s+,T9s,98s,87s,76s,AJo+,KQo+\"\n",
    "hj_rfi = \"22+,A2s+,K9s+,Q9s+,J9s+,T9s,98s,87s,76s,65s,ATo+,KJo+,QJo\"\n",
    "co_rfi = \"22+,A2s+,K6s+,Q8s+,J8s+,T8s+,97s+,86s+,75s+,65s,54s,ATo+,KTo+,QTo+,JTo\"\n",
    "bn_rfi = \"22+,A2s+,K4s+,Q6s+,J7s+,T7s+,96s+,85s+,75s+,64s+,53s+,43s,A4o+,K9o+,Q9o+,J9o+,T9o\"\n",
    "sb_rfi = \"22+,A2s+,K3s+,Q5s+,J6s+,T6s+,96s+,85s+,75s+,64s+,53s+,43s,A2o+,K8o+,Q9o+,J9o+,T9o,98o\"\n",
    "\n",
    "# vs RFI\n",
    "vsRFI_bb_vs_lj__raise = \"TT+,AQs+,AKo\"\n",
    "vsRFI_bb_vs_lj__call = \"99-22,AJs-A2s,K6s+,Q8s+,J8s+,T8s+,97s+,86s+,76s,65s,54s,AQo-ATo,KTo+,QTo+,JTo\"\n",
    "vsRFI_bb_vs_hj__raise = \"TT+,ATs+,AKo\"\n",
    "vsRFI_bb_vs_hj__call = \"99-22,A9s-A2s,K5s+,Q7s+,J7s+,T7s+,96s+,86s+,75s+,65s,54s,43s,AQo-ATo,KTo+,QTo+,JTo\"\n",
    "vsRFI_bb_vs_co__raise = \"99+,A8s+,KJs+,QJs,JTs,T9s,98s,AQo+,KQo\"\n",
    "vsRFI_bb_vs_co__call = \"88-22,A7s-A2s,KTs-K2s,QTs-Q5s,J9s-J6s,T8s-T6s,97s-96s,85s+,74s+,64s+,53s+,43s,AJo-A7o,A5o,KJo-K9o,Q9o+,J9o+,T9o\"\n",
    "vsRFI_bb_vs_bn__raise = \"88+,A6s+,KTs+,QTs+,JTs,T9s,98s,87s,76s,AJo+,KQo\"\n",
    "vsRFI_bb_vs_bn__call = \"77-22,A5s-A2s,K9s-K2s,Q9s-Q2s,J9s-J5s,T8s-T5s,97s-95s,86s-84s,75s-74s,63s+,53s+,42s+,32s,ATo-A2o,KJo-K7o,Q8o+,J8o+,T8o+,98o,87o\"\n",
    "vsRFI_bb_vs_sb__raise = \"44+,A8s+,A5s-A3s,K9s+,Q9s+,J9s,T8s+,97s+,86s+,75s+,64s+,54s,AJo+,KQo\"\n",
    "vsRFI_bb_vs_sb__call = \"33-22,A7s-A6s,A2s,K8s-K2s,Q8s-Q2s,J8s-J4s,T7s-T4s,96s-94s,85s-84s,74s-73s,63s-62s,53s-52s,42s+,32s,ATo-A2o,KJo-K5o,Q7o+,J7o+,T7o+,97o+,87o,76o,65o\"\n",
    "\n",
    "# vs RFI\n",
    "vsRFI_hj_vs_lj__raise = \"JJ+,AJs+,KQs,AKo\"\n",
    "vsRFI_hj_vs_lj__call = \"TT-77,ATs,KJs,QJs,JTs,AQo\"\n",
    "vsRFI_co_vs_lj__raise = \"JJ+,AJs+,KQs,AKo\"\n",
    "vsRFI_co_vs_lj__call = \"TT-66,ATs,KJs,QJs,JTs,AQo\"\n",
    "vsRFI_co_vs_hj__raise = \"JJ+,AJs+,A5s-A4s,KQs,T9s,AQo+\"\n",
    "vsRFI_co_vs_hj__call = \"TT-55,ATs,KJs,QJs,JTs\"\n",
    "vsRFI_bn_vs_lj__raise = \"JJ+,AKs,A5s-A2s,AKo\"\n",
    "vsRFI_bn_vs_lj__call = \"TT-55,AQs-ATs,KTs+,QTs+,JTs,T9s,98s,87s,AQo\"\n",
    "vsRFI_bn_vs_hj__raise = \"JJ+,AJs+,A8s,A5s-A2s,KQs,76s,65s,54s,AKo\"\n",
    "vsRFI_bn_vs_hj__call = \"TT-33,ATs-A9s,KJs-KTs,QTs+,JTs,T9s,98s,87s,AQo-AJo,KQo\"\n",
    "vsRFI_bn_vs_co__raise = \"TT+,ATs+,A7s-A2s,KJs+,QJs,JTs,T9s,76s,65s,54s,AJo+,KQo\"\n",
    "vsRFI_bn_vs_co__call = \"99-22,A9s-A8s,KTs,QTs,98s,87s\"\n",
    "vsRFI_sb_vs_lj__raise = \"JJ+,ATs+,KQs,AKo\"\n",
    "vsRFI_sb_vs_lj__call = \"TT-77,QJs,JTs,AQo\"\n",
    "vsRFI_sb_vs_hj__raise = \"JJ+,ATs+,KJs+,QJs,JTs,AQo+\"\n",
    "vsRFI_sb_vs_hj__call = \"TT-66,T9s\"\n",
    "vsRFI_sb_vs_co__raise = \"JJ+,A9s+,A5s-A4s,KJs+,QJs,JTs,T9s,98s,AJo+,KQo\"\n",
    "vsRFI_sb_vs_co__call = \"TT-55,KTs,QTs\"\n",
    "vsRFI_sb_vs_bn__raise = \"55+,A2s+,K9s+,Q9s+,J9s+,T8s+,98s,87s,76s,ATo+,KQo+\"\n",
    "vsRFI_sb_vs_bn__call = \"\"\n",
    "\n",
    "RFIvs3B_lj_vs_hjco_call = \"JJ-77,AQs-AJs,KQs,QJs,JTs\"\n",
    "RFIvs3B_lj_vs_bn_call = \"JJ-77,AQs-AJs,KJs+,QJs,JTs,T9s\"\n",
    "RFIvs3B_lj_vs_blinds_call = \"JJ-66,AQs-ATs,KJs+,QJs,JTs,T9s\"\n",
    "RFIvs3B_hj_vs_ahead_call = \"TT-66,AQs-ATs,KTs+,QTs+,JTs,T9s,AQo\"\n",
    "RFIvs3B_co_vs_bn_call = \"TT-66,AQs-A8s,KTs+,QTs+,JTs,T9s,98s,AQo\"\n",
    "RFIvs3B_co_vs_blinds_call = \"TT-55,AQs-A8s,KTs+,QTs+,JTs,T9s,98s,87s,AQo\"\n",
    "RFIvs3B_bnsb_vs_ahead_call = \"TT-33,AQs-A6s,K9s+,Q9s+,J9s+,T8s+,97s+,87s,76s,65s,54s,ATo+,KJo+,QJo\"\n"
   ]
  },
  {
   "cell_type": "markdown",
   "metadata": {},
   "source": [
    "## Script to Read Ranges and Output Combos Collection"
   ]
  },
  {
   "cell_type": "code",
   "execution_count": 2,
   "metadata": {},
   "outputs": [],
   "source": [
    "m = {\n",
    "    \"A\": 14, \"K\": 13, \"Q\": 12, \"J\": 11, \"T\": 10, \"9\": 9,\n",
    "    \"8\": 8, \"7\": 7, \"6\": 6, \"5\": 5, \"4\": 4, \"3\": 3, \"2\": 2\n",
    "}"
   ]
  },
  {
   "cell_type": "code",
   "execution_count": 59,
   "metadata": {},
   "outputs": [
    {
     "data": {
      "text/plain": [
       "'JJ+,AJs+,KQs,AKo'"
      ]
     },
     "execution_count": 59,
     "metadata": {},
     "output_type": "execute_result"
    }
   ],
   "source": [
    "# Input: range\n",
    "c_range = \"JJ+,AJs+,KQs,AKo\"\n",
    "c_range\n",
    "\n",
    "\n",
    "\n",
    "\n",
    "# Output: [[2,2]], [[14,13]], [[14,13]]\n",
    "    # PP, Suited, Offsuit"
   ]
  },
  {
   "cell_type": "code",
   "execution_count": 60,
   "metadata": {},
   "outputs": [
    {
     "data": {
      "text/plain": [
       "['JJ+', 'AJs+', 'KQs', 'AKo']"
      ]
     },
     "execution_count": 60,
     "metadata": {},
     "output_type": "execute_result"
    }
   ],
   "source": [
    "temp = c_range.split(\",\")\n",
    "temp"
   ]
  },
  {
   "cell_type": "code",
   "execution_count": 61,
   "metadata": {},
   "outputs": [
    {
     "data": {
      "text/plain": [
       "[[14, 14], [13, 13], [12, 12], [11, 11]]"
      ]
     },
     "execution_count": 61,
     "metadata": {},
     "output_type": "execute_result"
    }
   ],
   "source": [
    "pps = []\n",
    "pp = temp[0]\n",
    "if \"+\" in pp:\n",
    "    for i in range(14,m[pp[0]]-1,-1):\n",
    "        pps.append([i, i])\n",
    "elif \"-\" in pp:\n",
    "    for i in range(m[pp[0]],m[pp[-1]]-1,-1):\n",
    "        pps.append([i, i])\n",
    "else:\n",
    "    pps.append([m[pp[0]], m[pp[0]]])\n",
    "\n",
    "pps"
   ]
  },
  {
   "cell_type": "code",
   "execution_count": 62,
   "metadata": {},
   "outputs": [
    {
     "data": {
      "text/plain": [
       "(['AJs+', 'KQs'], [[14, 13], [14, 12], [14, 11], [13, 12]])"
      ]
     },
     "execution_count": 62,
     "metadata": {},
     "output_type": "execute_result"
    }
   ],
   "source": [
    "ss = []\n",
    "temp_s = [x for x in temp if \"s\" in x]\n",
    "for s in temp_s:\n",
    "    if \"+\" in s:\n",
    "        for i in range(m[s[0]]-1,m[s[1]]-1,-1):\n",
    "            ss.append([m[s[0]], i])\n",
    "    elif \"-\" in s:\n",
    "        for i in range(m[s[1]],m[s[5]]-1,-1):\n",
    "            ss.append([m[s[0]], i])\n",
    "    else:\n",
    "        ss.append([m[s[0]], m[s[1]]])\n",
    "temp_s, ss"
   ]
  },
  {
   "cell_type": "code",
   "execution_count": 63,
   "metadata": {},
   "outputs": [
    {
     "data": {
      "text/plain": [
       "(['AKo'], [[14, 13]])"
      ]
     },
     "execution_count": 63,
     "metadata": {},
     "output_type": "execute_result"
    }
   ],
   "source": [
    "os = []\n",
    "temp_o = [x for x in temp if \"o\" in x]\n",
    "for o in temp_o:\n",
    "    if \"+\" in o:\n",
    "        for i in range(m[o[0]]-1,m[o[1]]-1,-1):\n",
    "            os.append([m[o[0]], i])\n",
    "    elif \"-\" in o:\n",
    "        for i in range(m[o[1]],m[o[5]]-1,-1):\n",
    "            os.append([m[o[0]], i])\n",
    "    else:\n",
    "        os.append([m[o[0]], m[o[1]]])\n",
    "temp_o, os"
   ]
  },
  {
   "cell_type": "code",
   "execution_count": 18,
   "metadata": {},
   "outputs": [
    {
     "name": "stdout",
     "output_type": "stream",
     "text": [
      "14\n",
      "13\n",
      "12\n",
      "11\n"
     ]
    }
   ],
   "source": [
    "\n",
    "    print(i)"
   ]
  },
  {
   "cell_type": "code",
   "execution_count": 5,
   "metadata": {},
   "outputs": [
    {
     "data": {
      "text/plain": [
       "11"
      ]
     },
     "execution_count": 5,
     "metadata": {},
     "output_type": "execute_result"
    }
   ],
   "source": []
  },
  {
   "cell_type": "markdown",
   "metadata": {},
   "source": [
    "## What Hands Fall Under Which Category Given a Definition"
   ]
  },
  {
   "cell_type": "markdown",
   "metadata": {},
   "source": [
    "## What are All the Definitions and Their Rankings for Cat1/2/3/4"
   ]
  },
  {
   "cell_type": "markdown",
   "metadata": {},
   "source": [
    "## What Rankings Are Unique to Paired Boards?"
   ]
  },
  {
   "cell_type": "code",
   "execution_count": null,
   "metadata": {},
   "outputs": [],
   "source": []
  }
 ],
 "metadata": {
  "kernelspec": {
   "display_name": "commons",
   "language": "python",
   "name": "commons"
  },
  "language_info": {
   "codemirror_mode": {
    "name": "ipython",
    "version": 3
   },
   "file_extension": ".py",
   "mimetype": "text/x-python",
   "name": "python",
   "nbconvert_exporter": "python",
   "pygments_lexer": "ipython3",
   "version": "3.6.5"
  },
  "toc": {
   "base_numbering": 1,
   "nav_menu": {},
   "number_sections": true,
   "sideBar": true,
   "skip_h1_title": false,
   "title_cell": "Table of Contents",
   "title_sidebar": "Contents",
   "toc_cell": false,
   "toc_position": {},
   "toc_section_display": true,
   "toc_window_display": false
  }
 },
 "nbformat": 4,
 "nbformat_minor": 2
}
