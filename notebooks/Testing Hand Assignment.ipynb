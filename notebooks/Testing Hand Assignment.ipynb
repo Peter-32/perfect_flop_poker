{
 "cells": [
  {
   "cell_type": "code",
   "execution_count": 2,
   "metadata": {},
   "outputs": [
    {
     "data": {
      "text/plain": [
       "([], [], [])"
      ]
     },
     "execution_count": 2,
     "metadata": {},
     "output_type": "execute_result"
    }
   ],
   "source": [
    "m = {\n",
    "    \"A\": 14, \"K\": 13, \"Q\": 12, \"J\": 11, \"T\": 10, \"9\": 9,\n",
    "    \"8\": 8, \"7\": 7, \"6\": 6, \"5\": 5, \"4\": 4, \"3\": 3, \"2\": 2\n",
    "}\n",
    "\n",
    "def range_to_hands(c_range=\"JJ+,AJs+,KQs,AKo\"):\n",
    "\n",
    "    temp = c_range.split(\",\")\n",
    "\n",
    "    pps = []\n",
    "    pp = temp[0]\n",
    "    if \"+\" in pp:\n",
    "        for i in range(14,m[pp[0]]-1,-1):\n",
    "            pps.append([i, i])\n",
    "    elif \"-\" in pp:\n",
    "        for i in range(m[pp[0]],m[pp[-1]]-1,-1):\n",
    "            pps.append([i, i])\n",
    "    else:\n",
    "        pps.append([m[pp[0]], m[pp[0]]])\n",
    "\n",
    "    ss = []\n",
    "    temp_s = [x for x in temp if \"s\" in x]\n",
    "    for s in temp_s:\n",
    "        if \"+\" in s:\n",
    "            for i in range(m[s[0]]-1,m[s[1]]-1,-1):\n",
    "                ss.append([m[s[0]], i])\n",
    "        elif \"-\" in s:\n",
    "            for i in range(m[s[1]],m[s[5]]-1,-1):\n",
    "                ss.append([m[s[0]], i])\n",
    "        else:\n",
    "            ss.append([m[s[0]], m[s[1]]])\n",
    "\n",
    "    os = []\n",
    "    temp_o = [x for x in temp if \"o\" in x]\n",
    "    for o in temp_o:\n",
    "        if \"+\" in o:\n",
    "            for i in range(m[o[0]]-1,m[o[1]]-1,-1):\n",
    "                os.append([m[o[0]], i])\n",
    "        elif \"-\" in o:\n",
    "            for i in range(m[o[1]],m[o[5]]-1,-1):\n",
    "                os.append([m[o[0]], i])\n",
    "        else:\n",
    "            os.append([m[o[0]], m[o[1]]])\n",
    "    # Output: [[2,2]], [[14,13]], [[14,13]]\n",
    "        # PP, Suited, Offsuit\n",
    "    return pps, ss, os\n",
    "\n",
    "vsRFI_bb_vs_lj__call = \"22+,A2s+,K6s+,Q8s+,J8s+,T8s+,97s+,86s+,75s+,65s,54s,ATo+,KTo+,QTo+,JTo\"\n",
    "my_hands = range_to_hands(vsRFI_bb_vs_lj__call)\n",
    "flop = [9,9,2]\n",
    "\n",
    "my_hands_pp_oesd = [(x, 6) for x in my_hands[0] if (sorted(set(x + flop + [20,21,22]))[3] - min(x + flop) == 3) or (max(x + flop) - sorted(set(x + flop + [-20,-19,-18]))[-4] == 3) or (sorted(x+flop) == [3,4,5,7,14]) or (max(x+flop) - min(x+flop) == 6 and min(x+flop)+2 == sorted(x+flop)[1] and max(x+flop)-2 == sorted(x+flop)[-2])]\n",
    "my_hands_s_oesd = [(x, 4) for x in my_hands[1] if (sorted(set(x + flop + [20,21,22]))[3] - min(x + flop) == 3) or (max(x + flop) - sorted(set(x + flop + [-20,-19,-18]))[-4] == 3) or (sorted(x+flop) == [3,4,5,7,14]) or (max(x+flop) - min(x+flop) == 6 and min(x+flop)+2 == sorted(x+flop)[1] and max(x+flop)-2 == sorted(x+flop)[-2])]\n",
    "my_hands_o_oesd = [(x, 12) for x in my_hands[2] if (sorted(set(x + flop + [20,21,22]))[3] - min(x + flop) == 3) or (max(x + flop) - sorted(set(x + flop + [-20,-19,-18]))[-4] == 3) or (sorted(x+flop) == [3,4,5,7,14]) or (max(x+flop) - min(x+flop) == 6 and min(x+flop)+2 == sorted(x+flop)[1] and max(x+flop)-2 == sorted(x+flop)[-2])]\n",
    "my_hands_pp_oesd, my_hands_s_oesd, my_hands_o_oesd\n",
    "\n"
   ]
  },
  {
   "cell_type": "code",
   "execution_count": null,
   "metadata": {},
   "outputs": [],
   "source": []
  }
 ],
 "metadata": {
  "kernelspec": {
   "display_name": "commons",
   "language": "python",
   "name": "commons"
  },
  "language_info": {
   "codemirror_mode": {
    "name": "ipython",
    "version": 3
   },
   "file_extension": ".py",
   "mimetype": "text/x-python",
   "name": "python",
   "nbconvert_exporter": "python",
   "pygments_lexer": "ipython3",
   "version": "3.6.5"
  },
  "toc": {
   "base_numbering": 1,
   "nav_menu": {},
   "number_sections": true,
   "sideBar": true,
   "skip_h1_title": false,
   "title_cell": "Table of Contents",
   "title_sidebar": "Contents",
   "toc_cell": false,
   "toc_position": {},
   "toc_section_display": true,
   "toc_window_display": false
  }
 },
 "nbformat": 4,
 "nbformat_minor": 2
}
